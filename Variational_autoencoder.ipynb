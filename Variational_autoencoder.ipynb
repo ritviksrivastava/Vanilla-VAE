{
 "cells": [
  {
   "cell_type": "markdown",
   "metadata": {
    "colab_type": "text",
    "id": "qPdobhVe9fPm"
   },
   "source": [
    "**VARIATIONAL AUTOENCODER**"
   ]
  },
  {
   "cell_type": "code",
   "execution_count": 1,
   "metadata": {
    "colab": {
     "autoexec": {
      "startup": false,
      "wait_interval": 0
     },
     "base_uri": "https://localhost:8080/",
     "height": 35
    },
    "colab_type": "code",
    "executionInfo": {
     "elapsed": 3131,
     "status": "ok",
     "timestamp": 1533485278551,
     "user": {
      "displayName": "Ritvik Srivastava",
      "photoUrl": "//lh6.googleusercontent.com/-iy7INVDZDZM/AAAAAAAAAAI/AAAAAAAAReM/notm8S4scZE/s50-c-k-no/photo.jpg",
      "userId": "117757641458837772271"
     },
     "user_tz": -330
    },
    "id": "squyZS4f95zl",
    "outputId": "4e0f2fff-0403-487a-bd78-0ca3994eebf7"
   },
   "outputs": [
    {
     "name": "stderr",
     "output_type": "stream",
     "text": [
      "/home/ritvik/anaconda3/lib/python3.6/site-packages/h5py/__init__.py:36: FutureWarning: Conversion of the second argument of issubdtype from `float` to `np.floating` is deprecated. In future, it will be treated as `np.float64 == np.dtype(float).type`.\n",
      "  from ._conv import register_converters as _register_converters\n"
     ]
    },
    {
     "name": "stdout",
     "output_type": "stream",
     "text": [
      "1.9.0\n"
     ]
    }
   ],
   "source": [
    "import numpy as np\n",
    "import tensorflow as tf\n",
    "from tensorflow import keras\n",
    "import matplotlib.pyplot as plt\n",
    "\n",
    "%matplotlib inline\n",
    "print(tf.__version__)"
   ]
  },
  {
   "cell_type": "markdown",
   "metadata": {
    "colab_type": "text",
    "id": "IUhANh0z_HXR"
   },
   "source": [
    "Next, we import the dataset we will be working with that is the MNIST dataset. "
   ]
  },
  {
   "cell_type": "code",
   "execution_count": 3,
   "metadata": {
    "colab": {
     "autoexec": {
      "startup": false,
      "wait_interval": 0
     },
     "base_uri": "https://localhost:8080/",
     "height": 127
    },
    "colab_type": "code",
    "executionInfo": {
     "elapsed": 2152,
     "status": "ok",
     "timestamp": 1533485288748,
     "user": {
      "displayName": "Ritvik Srivastava",
      "photoUrl": "//lh6.googleusercontent.com/-iy7INVDZDZM/AAAAAAAAAAI/AAAAAAAAReM/notm8S4scZE/s50-c-k-no/photo.jpg",
      "userId": "117757641458837772271"
     },
     "user_tz": -330
    },
    "id": "95S1u3db_XAz",
    "outputId": "685d7616-7a1c-4c6f-920d-88b22fc7aefd"
   },
   "outputs": [
    {
     "ename": "ModuleNotFoundError",
     "evalue": "No module named 'keras'",
     "output_type": "error",
     "traceback": [
      "\u001b[0;31m---------------------------------------------------------------------------\u001b[0m",
      "\u001b[0;31mModuleNotFoundError\u001b[0m                       Traceback (most recent call last)",
      "\u001b[0;32m<ipython-input-3-ed1e65b9bbae>\u001b[0m in \u001b[0;36m<module>\u001b[0;34m()\u001b[0m\n\u001b[0;32m----> 1\u001b[0;31m \u001b[0;32mfrom\u001b[0m \u001b[0mkeras\u001b[0m\u001b[0;34m.\u001b[0m\u001b[0mdatasets\u001b[0m \u001b[0;32mimport\u001b[0m \u001b[0mmnist\u001b[0m\u001b[0;34m\u001b[0m\u001b[0m\n\u001b[0m\u001b[1;32m      2\u001b[0m \u001b[0;34m(\u001b[0m\u001b[0mtrain_im\u001b[0m\u001b[0;34m,\u001b[0m \u001b[0mtrain_label\u001b[0m\u001b[0;34m)\u001b[0m\u001b[0;34m,\u001b[0m\u001b[0;34m(\u001b[0m\u001b[0mtest_im\u001b[0m\u001b[0;34m,\u001b[0m \u001b[0mtest_label\u001b[0m\u001b[0;34m)\u001b[0m \u001b[0;34m=\u001b[0m \u001b[0mmnist\u001b[0m\u001b[0;34m.\u001b[0m\u001b[0mload_data\u001b[0m\u001b[0;34m(\u001b[0m\u001b[0;34m)\u001b[0m\u001b[0;34m\u001b[0m\u001b[0m\n\u001b[1;32m      3\u001b[0m \u001b[0mprint\u001b[0m\u001b[0;34m(\u001b[0m\u001b[0mtrain_im\u001b[0m\u001b[0;34m.\u001b[0m\u001b[0mshape\u001b[0m\u001b[0;34m,\u001b[0m \u001b[0mlen\u001b[0m\u001b[0;34m(\u001b[0m\u001b[0mtrain_label\u001b[0m\u001b[0;34m)\u001b[0m\u001b[0;34m,\u001b[0m \u001b[0mtest_im\u001b[0m\u001b[0;34m.\u001b[0m\u001b[0mshape\u001b[0m\u001b[0;34m,\u001b[0m \u001b[0mlen\u001b[0m\u001b[0;34m(\u001b[0m\u001b[0mtest_label\u001b[0m\u001b[0;34m)\u001b[0m\u001b[0;34m)\u001b[0m\u001b[0;34m\u001b[0m\u001b[0m\n\u001b[1;32m      4\u001b[0m \u001b[0mno_samples\u001b[0m \u001b[0;34m=\u001b[0m \u001b[0mlen\u001b[0m\u001b[0;34m(\u001b[0m\u001b[0mtrain_label\u001b[0m\u001b[0;34m)\u001b[0m\u001b[0;34m\u001b[0m\u001b[0m\n\u001b[1;32m      5\u001b[0m \u001b[0mdim_data\u001b[0m \u001b[0;34m=\u001b[0m \u001b[0mtrain_im\u001b[0m\u001b[0;34m[\u001b[0m\u001b[0;36m0\u001b[0m\u001b[0;34m]\u001b[0m\u001b[0;34m.\u001b[0m\u001b[0mshape\u001b[0m\u001b[0;34m[\u001b[0m\u001b[0;36m0\u001b[0m\u001b[0;34m]\u001b[0m\u001b[0;34m\u001b[0m\u001b[0m\n",
      "\u001b[0;31mModuleNotFoundError\u001b[0m: No module named 'keras'"
     ]
    }
   ],
   "source": [
    "from keras.datasets import mnist\n",
    "(train_im, train_label),(test_im, test_label) = mnist.load_data()\n",
    "print(train_im.shape, len(train_label), test_im.shape, len(test_label))\n",
    "no_samples = len(train_label)\n",
    "dim_data = train_im[0].shape[0]\n",
    "print(dim_data)"
   ]
  },
  {
   "cell_type": "markdown",
   "metadata": {
    "colab_type": "text",
    "id": "VWe_zgRFCV9s"
   },
   "source": [
    "Next, we insert a class declaration by the name of vae()"
   ]
  },
  {
   "cell_type": "code",
   "execution_count": 0,
   "metadata": {
    "colab": {
     "autoexec": {
      "startup": false,
      "wait_interval": 0
     }
    },
    "colab_type": "code",
    "id": "5wsmFwdHCnP5"
   },
   "outputs": [],
   "source": [
    "class vae(object):\n",
    "  \n",
    "    def __init__(self, learning_rate = 1e-3, n_batch = 100, n_hidden = 12):\n",
    "        self.learning_rate = learning_rate\n",
    "        self.n_batch = n_batch\n",
    "        self.n_hidden = n_hidden\n",
    "        self.build() ###Builds the model\n",
    "        \n",
    "        self.sess = tf.InteractiveSession()\n",
    "        self.sess.run(tf.global_variables_initializer())\n",
    "        \n",
    "    def build_encoder(self, x):\n",
    "        #We bulid a single layer network to encode the mean and the standard_dev\n",
    "        #Define the hidden layer to be hlayer\n",
    "        hlayer_enc = keras.layers.Dense(340, activation ='relu')(x)\n",
    "        mu = keras.layers.Dense(self.n_hidden)(hlayer_enc)\n",
    "        log_sigma_sq = keras.layers.Dense(self.n_hidden)(hlayer_enc)\n",
    "        sigma_sq = tf.exp(log_sigma_sq)\n",
    "        sigma = tf.sqrt(sigma_sq)\n",
    "        \n",
    "        return mu, log_sigma_sq, sigma_sq, sigma\n",
    "      \n",
    "    def build_decoder(self, z):\n",
    "        #Next, we build the decoder network with the same number of hidden units \n",
    "        hlayer_dec = keras.layers.Dense(340, activation='relu')(z)\n",
    "        \n",
    "      \n",
    "    def loss_fn(self):  "
   ]
  }
 ],
 "metadata": {
  "colab": {
   "collapsed_sections": [],
   "default_view": {},
   "name": "Variational_autoencoder.ipynb",
   "provenance": [],
   "version": "0.3.2",
   "views": {}
  },
  "kernelspec": {
   "display_name": "Python 3",
   "language": "python",
   "name": "python3"
  },
  "language_info": {
   "codemirror_mode": {
    "name": "ipython",
    "version": 3
   },
   "file_extension": ".py",
   "mimetype": "text/x-python",
   "name": "python",
   "nbconvert_exporter": "python",
   "pygments_lexer": "ipython3",
   "version": "3.6.5"
  }
 },
 "nbformat": 4,
 "nbformat_minor": 1
}
